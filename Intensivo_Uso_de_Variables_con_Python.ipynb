{
  "nbformat": 4,
  "nbformat_minor": 0,
  "metadata": {
    "colab": {
      "provenance": [],
      "collapsed_sections": [],
      "include_colab_link": true
    },
    "kernelspec": {
      "name": "python3",
      "display_name": "Python 3"
    }
  },
  "cells": [
    {
      "cell_type": "markdown",
      "metadata": {
        "id": "view-in-github",
        "colab_type": "text"
      },
      "source": [
        "<a href=\"https://colab.research.google.com/github/OZZYTA/Ciclo2Intensivo/blob/main/Intensivo_Uso_de_Variables_con_Python.ipynb\" target=\"_parent\"><img src=\"https://colab.research.google.com/assets/colab-badge.svg\" alt=\"Open In Colab\"/></a>"
      ]
    },
    {
      "cell_type": "markdown",
      "source": [
        "# **Python - Semana 1**"
      ],
      "metadata": {
        "id": "oPFlen775IPE"
      }
    },
    {
      "cell_type": "markdown",
      "metadata": {
        "id": "dCXlyPldqMca"
      },
      "source": [
        "***Lección 1***: Uso de diferentes variables en Python"
      ]
    },
    {
      "cell_type": "markdown",
      "metadata": {
        "id": "sTbyblv2t9uB"
      },
      "source": [
        "Ejemplo 1: Indice de Masa Corporal"
      ]
    },
    {
      "cell_type": "markdown",
      "metadata": {
        "id": "xNWACjJRuP9Z"
      },
      "source": [
        "**Ejemplo 2**: Energía cinética de cuerpos rigidos\n",
        "\n",
        "\n",
        "Es posible determinar la energía cinética de un objeto mediante diversas fórmulas en la mecánica clásica, tales como: ![ec2.jpg](data:image/jpeg;base64,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) donde m es la masa (Kg) del objeto y v su velocidad (m/s). \n",
        "\n",
        "Fuente: https://concepto.de/energia-cinetica/#ixzz7RWgj68Bd"
      ]
    },
    {
      "cell_type": "markdown",
      "metadata": {
        "id": "Y_v0XMcOsjTN"
      },
      "source": [
        "Ejemplo 3: Variables Booleanas"
      ]
    },
    {
      "cell_type": "markdown",
      "metadata": {
        "id": "mA_09O20wSUO"
      },
      "source": [
        "Ejemplo 4: Variables Booleanas - 2"
      ]
    },
    {
      "cell_type": "markdown",
      "metadata": {
        "id": "Q80ML8t70ND7"
      },
      "source": [
        "**Ejercicios de Práctica e investigación**\n",
        "\n",
        "1. Cree un programa que solicite base y altura, calcule e imprima el area de un triángulo.\n",
        "\n",
        "2. Cree un programa que pida el radio de un circulo e imprima la circunferencia.\n",
        "\n",
        "3. Cree un programa que pida un angulo y regrese el seno, el coseno y la tangente del mismo. *Pista: use la clase math.* https://www.w3schools.com/python/module_math.asp\n",
        "\n",
        "4. Desarrolle un programa que solicite 3 notas de un estudiante y retorne la calificación final con un mensaje que indique si el estudiante pasó o no pasó el curso. Tome en cuenta que, la primera nota equivale al 30% de la notal final, la segunda nota equivale al 30% de la nota final y la tercera nota equivale al 40% de la nota final."
      ]
    }
  ]
}